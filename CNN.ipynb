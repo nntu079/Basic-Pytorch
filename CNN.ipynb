{
  "nbformat": 4,
  "nbformat_minor": 0,
  "metadata": {
    "colab": {
      "name": "Pytorch CNN.ipynb",
      "provenance": [],
      "collapsed_sections": [],
      "authorship_tag": "ABX9TyNTcqtw4h0kU2vIzaiaVmap",
      "include_colab_link": true
    },
    "kernelspec": {
      "name": "python3",
      "display_name": "Python 3"
    }
  },
  "cells": [
    {
      "cell_type": "markdown",
      "metadata": {
        "id": "view-in-github",
        "colab_type": "text"
      },
      "source": [
        "<a href=\"https://colab.research.google.com/github/nntu079/Basic-Pytorch/blob/main/CNN.ipynb\" target=\"_parent\"><img src=\"https://colab.research.google.com/assets/colab-badge.svg\" alt=\"Open In Colab\"/></a>"
      ]
    },
    {
      "cell_type": "code",
      "metadata": {
        "id": "GJf9_8zFb09V"
      },
      "source": [
        "import torch\n",
        "import torch.nn as nn\n",
        "import torch.optim as optim\n",
        "import torch.nn.functional as F\n",
        "from torch.utils.data import DataLoader\n",
        "import torchvision.datasets as datasets\n",
        "import torchvision.transforms as transforms"
      ],
      "execution_count": 75,
      "outputs": []
    },
    {
      "cell_type": "code",
      "metadata": {
        "id": "Ak3pRUVHc3kp"
      },
      "source": [
        "class CNN(nn.Module):\n",
        "  def __init__(self,in_channels=1,num_classes=10):\n",
        "    super(CNN,self).__init__()\n",
        "    \n",
        "    #input=1x(28,28) => output=8x(28,28) (follow formula in website)\n",
        "    self.conv1=nn.Conv2d(in_channels=1,out_channels=8,kernel_size=(3,3),stride=(1,1),padding=(1,1));\n",
        "    \n",
        "    #input=(28,28) => output=8x(14,14)\n",
        "    self.pool=nn.MaxPool2d(kernel_size=(2,2),stride=(2,2))\n",
        "    \n",
        "    #input=8x(14,14) => output=16x(7,7)\n",
        "    self.conv2=nn.Conv2d(in_channels=8,out_channels=16,kernel_size=(3,3),stride=(1,1),padding=(1,1));\n",
        "    \n",
        "    self.fc1=nn.Linear(16*7*7,num_classes)\n",
        "\n",
        "  def forward(self,x):\n",
        "    #output= 8x(28,28)\n",
        "    x = F.relu(self.conv1(x))\n",
        "\n",
        "    #output= 8x(14,14)\n",
        "    x = self.pool(x)\n",
        "\n",
        "    #output=16x(14,14)\n",
        "    x = F.relu(self.conv2(x))\n",
        "\n",
        "    #output=16x(7,7)\n",
        "    x = self.pool(x)\n",
        "\n",
        "    #output=(10)\n",
        "    x = x.reshape(x.shape[0], -1)\n",
        "\n",
        "    x = self.fc1(x)\n",
        "\n",
        "    return x"
      ],
      "execution_count": 76,
      "outputs": []
    },
    {
      "cell_type": "code",
      "metadata": {
        "id": "NPCWtbl0pa2c"
      },
      "source": [
        "# Load Data\n",
        "patch=r'/content/drive/MyDrive/Môn học/Pytorch/mnist';\n",
        "train_dataset=datasets.MNIST(root=patch,train=True,transform=transforms.ToTensor(),download=True)\n",
        "train_loader= DataLoader(dataset=train_dataset,batch_size=batch_size,shuffle=True)\n",
        "\n",
        "test_dataset=datasets.MNIST(root=patch,train=False,transform=transforms.ToTensor(),download=True)\n",
        "test_loader= DataLoader(dataset=test_dataset,batch_size=batch_size,shuffle=True)"
      ],
      "execution_count": 77,
      "outputs": []
    },
    {
      "cell_type": "code",
      "metadata": {
        "id": "3clfokDvcjW0"
      },
      "source": [
        "# Set device\n",
        "device = torch.device('cuda' if torch.cuda.is_available() else 'cpu')"
      ],
      "execution_count": 78,
      "outputs": []
    },
    {
      "cell_type": "code",
      "metadata": {
        "colab": {
          "base_uri": "https://localhost:8080/"
        },
        "id": "d_s1voMppRnB",
        "outputId": "32a772e9-4461-491d-d178-a36dd093c95d"
      },
      "source": [
        "model= CNN().to(device)\n",
        "x=torch.randn(64,1,28,28)\n",
        "print(model(x).shape)"
      ],
      "execution_count": 79,
      "outputs": [
        {
          "output_type": "stream",
          "text": [
            "torch.Size([64, 10])\n"
          ],
          "name": "stdout"
        }
      ]
    },
    {
      "cell_type": "code",
      "metadata": {
        "id": "QU2XqLUmclPk"
      },
      "source": [
        "# Hyperparameters\n",
        "in_channels=1\n",
        "num_classes=10\n",
        "learning_rate=0.001\n",
        "batch_size=64\n",
        "num_epochs=5"
      ],
      "execution_count": 80,
      "outputs": []
    },
    {
      "cell_type": "code",
      "metadata": {
        "id": "8Copc1z8cpd2"
      },
      "source": [
        "# Loss and optimizer\n",
        "criterion= nn.CrossEntropyLoss();\n",
        "optimizer = optim.Adam(model.parameters(),lr=learning_rate)"
      ],
      "execution_count": 81,
      "outputs": []
    },
    {
      "cell_type": "code",
      "metadata": {
        "id": "DERHIqN6cqlk"
      },
      "source": [
        "# Train Network\n",
        "for epoch in range(num_epochs):\n",
        "  for batch_idx,(data,targets) in enumerate(train_loader):\n",
        "    # Get data to Cuda if possible\n",
        "    \n",
        "    data=data.to(device=device);\n",
        "    targets=targets.to(device=device);\n",
        "\n",
        "    # Forward\n",
        "    scores=model(data);\n",
        "    loss= criterion(scores,targets);\n",
        "\n",
        "    # Backward\n",
        "    optimizer.zero_grad();\n",
        "    loss.backward();\n",
        "\n",
        "    # Gradient Descent\n",
        "    optimizer.step();"
      ],
      "execution_count": 82,
      "outputs": []
    },
    {
      "cell_type": "code",
      "metadata": {
        "colab": {
          "base_uri": "https://localhost:8080/"
        },
        "id": "_EF-Ley-csFc",
        "outputId": "262f115f-c784-4752-cc99-ed4fe8e0c542"
      },
      "source": [
        "# Check accuracy on training and test to see how good our model\n",
        "\n",
        "def check_accuracy(loader,model):\n",
        "  num_correct=0;\n",
        "  num_samples=0;\n",
        "\n",
        "  with torch.no_grad():\n",
        "    for x,y in loader:\n",
        "      x=x.to(device=device)\n",
        "      y=y.to(device=device)\n",
        "\n",
        "      scores=model(x);\n",
        "      _,predictions=scores.max(1);\n",
        "\n",
        "      num_correct += (predictions==y).sum();\n",
        "      num_samples += predictions.size(0);\n",
        "\n",
        "    print(num_correct/num_samples,num_correct,num_samples)\n",
        "\n",
        "check_accuracy(train_loader,model)\n",
        "check_accuracy(test_loader,model)"
      ],
      "execution_count": 83,
      "outputs": [
        {
          "output_type": "stream",
          "text": [
            "tensor(0.9846) tensor(59076) 60000\n",
            "tensor(0.9845) tensor(9845) 10000\n"
          ],
          "name": "stdout"
        }
      ]
    },
    {
      "cell_type": "code",
      "metadata": {
        "id": "oJElrEz8ct4s"
      },
      "source": [
        ""
      ],
      "execution_count": 83,
      "outputs": []
    }
  ]
}