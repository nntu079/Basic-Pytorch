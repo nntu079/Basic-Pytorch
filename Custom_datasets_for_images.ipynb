{
  "nbformat": 4,
  "nbformat_minor": 0,
  "metadata": {
    "colab": {
      "name": "Custom datasets for images.ipynb",
      "provenance": [],
      "collapsed_sections": [],
      "mount_file_id": "1w7a4LZA6JqwgIc-SDL-OZkPEc6Pf5x0Y",
      "authorship_tag": "ABX9TyNHH5GmiCfZ3Huybq/y46SX",
      "include_colab_link": true
    },
    "kernelspec": {
      "name": "python3",
      "display_name": "Python 3"
    }
  },
  "cells": [
    {
      "cell_type": "markdown",
      "metadata": {
        "id": "view-in-github",
        "colab_type": "text"
      },
      "source": [
        "<a href=\"https://colab.research.google.com/github/nntu079/Basic-Pytorch/blob/main/Custom_datasets_for_images.ipynb\" target=\"_parent\"><img src=\"https://colab.research.google.com/assets/colab-badge.svg\" alt=\"Open In Colab\"/></a>"
      ]
    },
    {
      "cell_type": "code",
      "metadata": {
        "id": "YzhTPNyTkv8Z"
      },
      "source": [
        "import os\r\n",
        "import pandas as pd\r\n",
        "import torch\r\n",
        "from torch.utils.data import Dataset\r\n",
        "from skimage import io"
      ],
      "execution_count": null,
      "outputs": []
    },
    {
      "cell_type": "code",
      "metadata": {
        "id": "_-1WZihdm1ER"
      },
      "source": [
        "class CatsAndDogsDataset(Dataset):\r\n",
        "  def __init__(self,csv_file,root_dir,transform=None):\r\n",
        "    self.annotations=pd.read_csv(csv_file)\r\n",
        "    self.root_dir=root_dir\r\n",
        "    self.transform=transform\r\n",
        "\r\n",
        "  def __len__(self):\r\n",
        "    return len(self.annotations)\r\n",
        "  \r\n",
        "  def __getitem__(self,index):\r\n",
        "    img_path= os.path.join(self.root_dir,self.annotations.iloc[index,0])\r\n",
        "    image= io.imread(img_path)\r\n",
        "    #print(image.shape)\r\n",
        "    y_label = torch.tensor(self.annotations.iloc[index,1])\r\n",
        "\r\n",
        "    if self.transform:\r\n",
        "      image=self.transform(image)\r\n",
        "    \r\n",
        "    return (image,y_label)"
      ],
      "execution_count": null,
      "outputs": []
    },
    {
      "cell_type": "code",
      "metadata": {
        "id": "_MeO0xXrs7_u"
      },
      "source": [
        "import torch\r\n",
        "import torch.nn as nn\r\n",
        "import torch.optim as optim\r\n",
        "import torch.nn.functional as F\r\n",
        "import torchvision.transforms as transforms\r\n",
        "from torch.utils.data import DataLoader"
      ],
      "execution_count": 27,
      "outputs": []
    },
    {
      "cell_type": "code",
      "metadata": {
        "id": "dFdlElCtsFZi"
      },
      "source": [
        "csv_file=r'/content/drive/MyDrive/Môn học/Pytorch/custom/images/cats_dogs.csv'\r\n",
        "root_dir=r'/content/drive/MyDrive/Môn học/Pytorch/custom/images/cats_dogs_resized'\r\n",
        "transform=transforms.ToTensor()\r\n",
        "\r\n",
        "dataset= CatsAndDogsDataset(csv_file,root_dir,transform)"
      ],
      "execution_count": 28,
      "outputs": []
    },
    {
      "cell_type": "code",
      "metadata": {
        "colab": {
          "base_uri": "https://localhost:8080/"
        },
        "id": "OVLguHKBtabY",
        "outputId": "94ee28e6-ad57-4c86-e79e-491f9cb500d1"
      },
      "source": [
        "dataset.__getitem__(0)[0].shape"
      ],
      "execution_count": null,
      "outputs": [
        {
          "output_type": "execute_result",
          "data": {
            "text/plain": [
              "torch.Size([3, 224, 224])"
            ]
          },
          "metadata": {
            "tags": []
          },
          "execution_count": 23
        }
      ]
    },
    {
      "cell_type": "code",
      "metadata": {
        "id": "QMHLSW3ntYF4"
      },
      "source": [
        "# Set device\r\n",
        "device = torch.device('cuda' if torch.cuda.is_available() else 'cpu')"
      ],
      "execution_count": 29,
      "outputs": []
    },
    {
      "cell_type": "code",
      "metadata": {
        "id": "tZD9Jk7Y0FFi"
      },
      "source": [
        "# Hyperparameters\r\n",
        "in_channels=1\r\n",
        "num_classes=10\r\n",
        "learning_rate=0.001\r\n",
        "batch_size=64\r\n",
        "num_epochs=5"
      ],
      "execution_count": 30,
      "outputs": []
    },
    {
      "cell_type": "code",
      "metadata": {
        "id": "2LkJ15FOyn_c"
      },
      "source": [
        "#train_dataset, test_dataset = torch.utils.data.random_split(full_dataset, [train_size, test_size])\r\n",
        "train_set,test_set=torch.utils.data.random_split(dataset,[7,3])"
      ],
      "execution_count": 26,
      "outputs": []
    },
    {
      "cell_type": "code",
      "metadata": {
        "id": "1HJzDU2YzrME"
      },
      "source": [
        "train_loader=DataLoader(dataset=train_set,batch_size=batch_size,shuffle=True)\r\n",
        "test_loader=DataLoader(dataset=test_set,batch_size=batch_size,shuffle=True)"
      ],
      "execution_count": null,
      "outputs": []
    }
  ]
}