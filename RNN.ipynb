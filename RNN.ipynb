{
  "nbformat": 4,
  "nbformat_minor": 0,
  "metadata": {
    "colab": {
      "name": "RNN.ipynb",
      "provenance": [],
      "collapsed_sections": [],
      "authorship_tag": "ABX9TyPZl+MAAHZfQzpT+K2ZpfAA",
      "include_colab_link": true
    },
    "kernelspec": {
      "name": "python3",
      "display_name": "Python 3",
      "language": "python"
    }
  },
  "cells": [
    {
      "cell_type": "markdown",
      "metadata": {
        "id": "view-in-github",
        "colab_type": "text"
      },
      "source": [
        "<a href=\"https://colab.research.google.com/github/nntu079/Basic-Pytorch/blob/main/RNN.ipynb\" target=\"_parent\"><img src=\"https://colab.research.google.com/assets/colab-badge.svg\" alt=\"Open In Colab\"/></a>"
      ]
    },
    {
      "cell_type": "code",
      "metadata": {
        "id": "qeCYqoyFtk-K"
      },
      "source": [
        "import torch \n",
        "import torch.nn as nn\n",
        "import torch.optim as optim\n",
        "import torch.nn.functional as F\n",
        "from torch.utils.data import DataLoader\n",
        "import torchvision.datasets as datasets\n",
        "import torchvision.transforms as transforms"
      ],
      "execution_count": 3,
      "outputs": []
    },
    {
      "cell_type": "code",
      "metadata": {
        "id": "WDGEbrEQt_3r"
      },
      "source": [
        "# Set device\n",
        "device = torch.device('cuda' if torch.cuda.is_available() else 'cpu')\n",
        "\n",
        "print('test test')"
      ],
      "execution_count": 12,
      "outputs": []
    },
    {
      "cell_type": "code",
      "metadata": {
        "id": "XAKRwxSKuCTW"
      },
      "source": [
        "#Nx1x28x28 \n",
        "# Hyperparameters\n",
        "input_size=28\n",
        "sequence_length=28\n",
        "num_layers=2\n",
        "hidden_size=256\n",
        "num_classes=10\n",
        "learning_rate=0.001\n",
        "batch_size=64\n",
        "num_epochs=2"
      ],
      "execution_count": 13,
      "outputs": []
    },
    {
      "cell_type": "code",
      "metadata": {
        "colab": {
          "base_uri": "https://localhost:8080/"
        },
        "id": "QW8ns7KVuSHu",
        "outputId": "4047c6a7-bd06-4823-87b2-5c036518830f"
      },
      "source": [
        "# Create RNN\n",
        "class RNN(nn.Module):\n",
        "  def __init__(self,input_size,hidden_size,num_layers,num_classes):\n",
        "    super(RNN,self).__init__()\n",
        "    self.hidden_size=hidden_size\n",
        "    self.num_layers=num_layers\n",
        "    self.rnn= nn.RNN(input_size,hidden_size,num_layers,batch_first=True)\n",
        "    self.fc=nn.Linear(hidden_size*sequence_length,num_classes)\n",
        "\n",
        "  def forward(self,x):\n",
        "    h0=torch.zeros(self.num_layers,x.size(0),self.hidden_size).to(device)\n",
        "    \n",
        "    out,_=self.rnn(x,h0)\n",
        "    #print(out.shape) # [64, 28, 256]\n",
        "    out=out.reshape(out.shape[0],-1);\n",
        "    # out= out[:,-1:] => many to one\n",
        "    #print(out.shape) # [64, 7168]\n",
        "    out=self.fc(out)\n",
        "    return out;\n",
        "\n",
        "model = RNN(input_size,hidden_size,num_layers,num_classes);\n",
        "x=torch.randn(batch_size,sequence_length,input_size);\n",
        "\n",
        "print(x.shape)\n",
        "print(model(x).shape)"
      ],
      "execution_count": 14,
      "outputs": [
        {
          "output_type": "stream",
          "text": [
            "torch.Size([64, 28, 28])\n",
            "torch.Size([64, 10])\n"
          ],
          "name": "stdout"
        }
      ]
    },
    {
      "cell_type": "code",
      "metadata": {
        "id": "jYQq2_XJQfJ4"
      },
      "source": [
        "# Load Data\r\n",
        "patch=r'/content/drive/MyDrive/Môn học/Pytorch/mnist';\r\n",
        "train_dataset=datasets.MNIST(root=patch,train=True,transform=transforms.ToTensor(),download=True)\r\n",
        "train_loader= DataLoader(dataset=train_dataset,batch_size=batch_size,shuffle=True)\r\n",
        "\r\n",
        "test_dataset=datasets.MNIST(root=patch,train=False,transform=transforms.ToTensor(),download=True)\r\n",
        "test_loader= DataLoader(dataset=test_dataset,batch_size=batch_size,shuffle=True)"
      ],
      "execution_count": 15,
      "outputs": []
    },
    {
      "cell_type": "code",
      "metadata": {
        "id": "Mm0CkPLUQ1l0"
      },
      "source": [
        "# Initialize Network\r\n",
        "model= RNN(input_size,hidden_size,num_layers,num_classes).to(device)"
      ],
      "execution_count": 16,
      "outputs": []
    },
    {
      "cell_type": "code",
      "metadata": {
        "id": "agZIvi0XQ2WM"
      },
      "source": [
        "# Loss and optimizer\r\n",
        "criterion= nn.CrossEntropyLoss();\r\n",
        "optimizer = optim.Adam(model.parameters(),lr=learning_rate)"
      ],
      "execution_count": 17,
      "outputs": []
    },
    {
      "cell_type": "code",
      "metadata": {
        "colab": {
          "base_uri": "https://localhost:8080/"
        },
        "id": "_ODne6t0Rv2j",
        "outputId": "54b9645b-fe35-4d5d-bf27-64d48beef28c"
      },
      "source": [
        "x=torch.randn(batch_size,sequence_length,input_size);\r\n",
        "print(x.shape)\r\n",
        "x=x.reshape(1,64,28,28)\r\n",
        "\r\n",
        "x=x.squeeze(1)\r\n",
        "print(x.shape)"
      ],
      "execution_count": 18,
      "outputs": [
        {
          "output_type": "stream",
          "text": [
            "torch.Size([64, 28, 28])\n",
            "torch.Size([1, 64, 28, 28])\n"
          ],
          "name": "stdout"
        }
      ]
    },
    {
      "cell_type": "code",
      "metadata": {
        "id": "xchOgZIRRHgJ"
      },
      "source": [
        "# Train Network\r\n",
        "for epoch in range(num_epochs):\r\n",
        "  for batch_idx,(data,targets) in enumerate(train_loader):\r\n",
        "    # Get data to Cuda if possible\r\n",
        "    #data=data.to(device=device).squeeze(1);\r\n",
        "    data=data.to(device=device).squeeze(1);\r\n",
        "    targets=targets.to(device=device);\r\n",
        "    \r\n",
        "    # Get data ro correct shape\r\n",
        "    #data=data.reshape(data.shape[0],-1)\r\n",
        "    #data=data.reshape(batch_size,sequence_length,input_size)\r\n",
        "\r\n",
        "\r\n",
        "    # Forward\r\n",
        "    scores=model(data);\r\n",
        "    loss= criterion(scores,targets);\r\n",
        "\r\n",
        "    # Backward\r\n",
        "    optimizer.zero_grad();\r\n",
        "    loss.backward();\r\n",
        "\r\n",
        "    # Gradient Descent\r\n",
        "    optimizer.step();"
      ],
      "execution_count": 19,
      "outputs": []
    },
    {
      "cell_type": "code",
      "metadata": {
        "colab": {
          "base_uri": "https://localhost:8080/"
        },
        "id": "f7mzPicjUTRe",
        "outputId": "4ed56cb0-c872-40be-ce30-8e2e2f03f999"
      },
      "source": [
        "# Check accuracy on training & test to see how good our model\r\n",
        "\r\n",
        "def check_accuracy(loader, model):\r\n",
        "    if loader.dataset.train:\r\n",
        "        print(\"Checking accuracy on training data\")\r\n",
        "    else:\r\n",
        "        print(\"Checking accuracy on test data\")\r\n",
        "\r\n",
        "    num_correct = 0\r\n",
        "    num_samples = 0\r\n",
        "\r\n",
        "    # Set model to eval\r\n",
        "    model.eval()\r\n",
        "\r\n",
        "    with torch.no_grad():\r\n",
        "        for x, y in loader:\r\n",
        "            x = x.to(device=device).squeeze(1)\r\n",
        "            y = y.to(device=device)\r\n",
        "\r\n",
        "            scores = model(x)\r\n",
        "            _, predictions = scores.max(1)\r\n",
        "            num_correct += (predictions == y).sum()\r\n",
        "            num_samples += predictions.size(0)\r\n",
        "\r\n",
        "        print(\r\n",
        "            f\"Got {num_correct} / {num_samples} with \\\r\n",
        "              accuracy {float(num_correct)/float(num_samples)*100:.2f}\"\r\n",
        "        )\r\n",
        "    # Set model back to train\r\n",
        "    model.train()\r\n",
        "check_accuracy(train_loader, model)\r\n",
        "check_accuracy(test_loader, model)"
      ],
      "execution_count": 20,
      "outputs": [
        {
          "output_type": "stream",
          "text": [
            "Checking accuracy on training data\n",
            "Got 58213 / 60000 with               accuracy 97.02\n",
            "Checking accuracy on test data\n",
            "Got 9693 / 10000 with               accuracy 96.93\n"
          ],
          "name": "stdout"
        }
      ]
    }
  ]
}